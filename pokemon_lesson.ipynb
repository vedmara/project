{
  "nbformat": 4,
  "nbformat_minor": 0,
  "metadata": {
    "colab": {
      "provenance": [],
      "authorship_tag": "ABX9TyMsuHUfgml34KHkAfiWz5gP",
      "include_colab_link": true
    },
    "kernelspec": {
      "name": "python3",
      "display_name": "Python 3"
    },
    "language_info": {
      "name": "python"
    }
  },
  "cells": [
    {
      "cell_type": "markdown",
      "metadata": {
        "id": "view-in-github",
        "colab_type": "text"
      },
      "source": [
        "<a href=\"https://colab.research.google.com/github/vedmara/project/blob/main/pokemon_lesson.ipynb\" target=\"_parent\"><img src=\"https://colab.research.google.com/assets/colab-badge.svg\" alt=\"Open In Colab\"/></a>"
      ]
    },
    {
      "cell_type": "code",
      "execution_count": 1,
      "metadata": {
        "id": "uGjasaAn6HEX"
      },
      "outputs": [],
      "source": [
        "import random\n",
        "import requests\n"
      ]
    },
    {
      "cell_type": "code",
      "source": [
        "def random_pokemon():\n",
        "  pokemon_number = random.randint(1, 151)\n",
        "  url = 'https://pokeapi.co/api/v2/pokemon/{}/'.format(pokemon_number)\n",
        "  response = requests.get(url)\n",
        "  pokemon = response.json()\n",
        "  return {\n",
        "    'name': pokemon['name'],\n",
        "    'id': pokemon['id'],\n",
        "    'height': pokemon['height'],\n",
        "  'weight': pokemon['weight'],\n",
        "  }"
      ],
      "metadata": {
        "id": "53JPdlGh6RgO"
      },
      "execution_count": 2,
      "outputs": []
    },
    {
      "cell_type": "code",
      "source": [
        "def run():\n",
        "  my_pokemon = random_pokemon()\n",
        "  print('You were given {}'.format(my_pokemon['name']))\n",
        "  stat_choice = input('Which stat do you want to use? (id, height, weight) ')\n",
        "  opponent_pokemon = random_pokemon()\n",
        "  print('The opponent chose {}'.format(opponent_pokemon['name']))\n",
        "  my_stat = my_pokemon[stat_choice]\n",
        "  opponent_stat = opponent_pokemon[stat_choice]\n",
        "  if my_stat > opponent_stat:\n",
        "    print('You Win!')\n",
        "  elif my_stat < opponent_stat:\n",
        "    print('You Lose!')\n",
        "  else:\n",
        "    print('Draw!')"
      ],
      "metadata": {
        "id": "b1iwLD9d6krB"
      },
      "execution_count": 7,
      "outputs": []
    },
    {
      "cell_type": "code",
      "source": [
        "run()"
      ],
      "metadata": {
        "colab": {
          "base_uri": "https://localhost:8080/"
        },
        "id": "BDlaxPYP7Tn2",
        "outputId": "acee0ddd-3c12-447c-f2c5-00018ba69713"
      },
      "execution_count": null,
      "outputs": [
        {
          "output_type": "stream",
          "name": "stdout",
          "text": [
            "You were given cloyster\n"
          ]
        }
      ]
    }
  ]
}