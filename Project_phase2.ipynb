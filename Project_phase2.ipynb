{
  "nbformat": 4,
  "nbformat_minor": 0,
  "metadata": {
    "colab": {
      "provenance": [],
      "mount_file_id": "1HUOjUwKCUnGAFJhsHdBJuHwqt8UqnF_c",
      "authorship_tag": "ABX9TyNroSUwhmE0Sdi/RJu49SMO",
      "include_colab_link": true
    },
    "kernelspec": {
      "name": "python3",
      "display_name": "Python 3"
    },
    "language_info": {
      "name": "python"
    }
  },
  "cells": [
    {
      "cell_type": "markdown",
      "metadata": {
        "id": "view-in-github",
        "colab_type": "text"
      },
      "source": [
        "<a href=\"https://colab.research.google.com/github/vedmara/project/blob/main/Project_phase2.ipynb\" target=\"_parent\"><img src=\"https://colab.research.google.com/assets/colab-badge.svg\" alt=\"Open In Colab\"/></a>"
      ]
    },
    {
      "cell_type": "markdown",
      "source": [
        "Background\n",
        "\n",
        "Indication: Low Back Pain ( LBP)\n",
        "\n",
        "Parallel, double blind,Multicentric Phase III Clinical Trial ( 4 centers)\n",
        "\n",
        "Number of treatments: 03\n",
        "\n",
        "Treatments: Test, Reference and Placebo\n",
        "\n",
        "Sample Size: n=780\n",
        "\n",
        "Visits: Day 1( V1), Day 3( V2) and Day 7(V3)\n",
        "\n",
        "Primary End Point: Visual Analogue Scale (VAS)\n",
        "\n",
        "Scale: 0-100 mm"
      ],
      "metadata": {
        "id": "4t5GeRtz_Rk8"
      }
    },
    {
      "cell_type": "code",
      "execution_count": 1,
      "metadata": {
        "id": "MBd8Mpfl_OJG"
      },
      "outputs": [],
      "source": [
        "import pandas as pd\n",
        "import numpy as np\n",
        "import scipy.stats as stats\n",
        "import seaborn as sns\n",
        "import matplotlib.pyplot as plt"
      ]
    },
    {
      "cell_type": "code",
      "source": [
        "aedata=pd.read_csv(\"/content/drive/MyDrive/Project/AE DATA.csv\")\n",
        "aedata.head()\n",
        "#aedata.info()"
      ],
      "metadata": {
        "colab": {
          "base_uri": "https://localhost:8080/"
        },
        "id": "QMQuZAVn_aqD",
        "outputId": "5d489367-d90e-45e9-e5a4-50501706992e"
      },
      "execution_count": 2,
      "outputs": [
        {
          "output_type": "stream",
          "name": "stdout",
          "text": [
            "<class 'pandas.core.frame.DataFrame'>\n",
            "RangeIndex: 780 entries, 0 to 779\n",
            "Data columns (total 4 columns):\n",
            " #   Column       Non-Null Count  Dtype \n",
            "---  ------       --------------  ----- \n",
            " 0   Patient_ID   780 non-null    object\n",
            " 1   AE           780 non-null    object\n",
            " 2   AE_REL       68 non-null     object\n",
            " 3   AE_SEVERITY  68 non-null     object\n",
            "dtypes: object(4)\n",
            "memory usage: 24.5+ KB\n"
          ]
        }
      ]
    },
    {
      "cell_type": "code",
      "source": [
        "baselinedata=pd.read_csv('/content/drive/MyDrive/Project/Baseline Characteristics.csv')\n",
        "baselinedata.head()\n",
        "#baselinedata.info()"
      ],
      "metadata": {
        "colab": {
          "base_uri": "https://localhost:8080/"
        },
        "id": "f3q3orv6ABgc",
        "outputId": "3fddad2b-917c-40d1-864b-50283965f1f8"
      },
      "execution_count": 3,
      "outputs": [
        {
          "output_type": "stream",
          "name": "stdout",
          "text": [
            "<class 'pandas.core.frame.DataFrame'>\n",
            "RangeIndex: 780 entries, 0 to 779\n",
            "Data columns (total 3 columns):\n",
            " #   Column      Non-Null Count  Dtype \n",
            "---  ------      --------------  ----- \n",
            " 0   Patient_ID  780 non-null    object\n",
            " 1   Work        780 non-null    object\n",
            " 2   Surgery_1Y  780 non-null    object\n",
            "dtypes: object(3)\n",
            "memory usage: 18.4+ KB\n"
          ]
        }
      ]
    },
    {
      "cell_type": "code",
      "source": [
        "demografdata=pd.read_csv('/content/drive/MyDrive/Project/Demographics.csv')\n",
        "demografdata.head()\n",
        "#demografdata.info()"
      ],
      "metadata": {
        "colab": {
          "base_uri": "https://localhost:8080/"
        },
        "id": "D_R5mhyGAVPG",
        "outputId": "ceb01cf0-7116-4151-a02a-1831f0ad0e16"
      },
      "execution_count": 4,
      "outputs": [
        {
          "output_type": "stream",
          "name": "stdout",
          "text": [
            "<class 'pandas.core.frame.DataFrame'>\n",
            "RangeIndex: 780 entries, 0 to 779\n",
            "Data columns (total 3 columns):\n",
            " #   Column      Non-Null Count  Dtype \n",
            "---  ------      --------------  ----- \n",
            " 0   Patient_ID  780 non-null    object\n",
            " 1   Age         780 non-null    int64 \n",
            " 2   Gender      780 non-null    object\n",
            "dtypes: int64(1), object(2)\n",
            "memory usage: 18.4+ KB\n"
          ]
        }
      ]
    },
    {
      "cell_type": "code",
      "source": [
        "globaldata=pd.read_csv('/content/drive/MyDrive/Project/Global Assessment.csv')\n",
        "globaldata.head()\n",
        "#globaldata.info()"
      ],
      "metadata": {
        "colab": {
          "base_uri": "https://localhost:8080/"
        },
        "id": "8wI9S88jAgUU",
        "outputId": "bbd81bae-c3c3-45e9-b5de-dacc51207812"
      },
      "execution_count": 5,
      "outputs": [
        {
          "output_type": "stream",
          "name": "stdout",
          "text": [
            "<class 'pandas.core.frame.DataFrame'>\n",
            "RangeIndex: 780 entries, 0 to 779\n",
            "Data columns (total 2 columns):\n",
            " #   Column      Non-Null Count  Dtype \n",
            "---  ------      --------------  ----- \n",
            " 0   Patient_ID  780 non-null    object\n",
            " 1   PGA         780 non-null    int64 \n",
            "dtypes: int64(1), object(1)\n",
            "memory usage: 12.3+ KB\n"
          ]
        }
      ]
    },
    {
      "cell_type": "code",
      "source": [
        "randomazedata=pd.read_csv('/content/drive/MyDrive/Project/Randomization.csv')\n",
        "randomazedata.head()\n",
        "#randomazedata.info()"
      ],
      "metadata": {
        "colab": {
          "base_uri": "https://localhost:8080/"
        },
        "id": "fdEtx9TYAvlq",
        "outputId": "b8a742ed-3135-491d-f8b5-e695f87b3577"
      },
      "execution_count": 6,
      "outputs": [
        {
          "output_type": "stream",
          "name": "stdout",
          "text": [
            "<class 'pandas.core.frame.DataFrame'>\n",
            "RangeIndex: 780 entries, 0 to 779\n",
            "Data columns (total 3 columns):\n",
            " #   Column      Non-Null Count  Dtype \n",
            "---  ------      --------------  ----- \n",
            " 0   Patient_ID  780 non-null    object\n",
            " 1   Treatment   780 non-null    object\n",
            " 2   Center      780 non-null    object\n",
            "dtypes: object(3)\n",
            "memory usage: 18.4+ KB\n"
          ]
        }
      ]
    },
    {
      "cell_type": "code",
      "source": [
        "studydata=pd.read_csv('/content/drive/MyDrive/Project/Study Populations.csv')\n",
        "studydata.head()\n",
        "#studydata.info()"
      ],
      "metadata": {
        "colab": {
          "base_uri": "https://localhost:8080/"
        },
        "id": "s0LLlGV3A9QX",
        "outputId": "7d3cdd1b-c0b0-40b2-f95c-f52159be8b41"
      },
      "execution_count": 7,
      "outputs": [
        {
          "output_type": "stream",
          "name": "stdout",
          "text": [
            "<class 'pandas.core.frame.DataFrame'>\n",
            "RangeIndex: 780 entries, 0 to 779\n",
            "Data columns (total 3 columns):\n",
            " #   Column      Non-Null Count  Dtype \n",
            "---  ------      --------------  ----- \n",
            " 0   Patient_ID  780 non-null    object\n",
            " 1   ITT         780 non-null    object\n",
            " 2   PP          780 non-null    object\n",
            "dtypes: object(3)\n",
            "memory usage: 18.4+ KB\n"
          ]
        }
      ]
    },
    {
      "cell_type": "code",
      "source": [
        "vasdata=pd.read_csv('/content/drive/MyDrive/Project/VAS Data.csv')\n",
        "vasdata.head()\n",
        "#vasdata.info()"
      ],
      "metadata": {
        "colab": {
          "base_uri": "https://localhost:8080/"
        },
        "id": "5dY4fLB1BG95",
        "outputId": "31a2a790-c3b9-48ab-ec17-8d560bd0a3c3"
      },
      "execution_count": 8,
      "outputs": [
        {
          "output_type": "stream",
          "name": "stdout",
          "text": [
            "<class 'pandas.core.frame.DataFrame'>\n",
            "RangeIndex: 5460 entries, 0 to 5459\n",
            "Data columns (total 3 columns):\n",
            " #   Column      Non-Null Count  Dtype \n",
            "---  ------      --------------  ----- \n",
            " 0   Patient_ID  5460 non-null   object\n",
            " 1   Day         5460 non-null   object\n",
            " 2   VAS         5460 non-null   int64 \n",
            "dtypes: int64(1), object(2)\n",
            "memory usage: 128.1+ KB\n"
          ]
        }
      ]
    },
    {
      "cell_type": "code",
      "source": [
        "vitaldata=pd.read_csv('/content/drive/MyDrive/Project/Vital Signs.csv')\n",
        "vitaldata.head()\n",
        "#vitaldata.info()"
      ],
      "metadata": {
        "colab": {
          "base_uri": "https://localhost:8080/"
        },
        "id": "DvrC7CgPBQO1",
        "outputId": "45ad316c-0bfc-4226-c981-ae07de6146ee"
      },
      "execution_count": 9,
      "outputs": [
        {
          "output_type": "stream",
          "name": "stdout",
          "text": [
            "<class 'pandas.core.frame.DataFrame'>\n",
            "RangeIndex: 780 entries, 0 to 779\n",
            "Data columns (total 9 columns):\n",
            " #   Column                           Non-Null Count  Dtype \n",
            "---  ------                           --------------  ----- \n",
            " 0   Patient_ID                       780 non-null    object\n",
            " 1   PR                               780 non-null    int64 \n",
            " 2   Pulse rate (beats/min)           780 non-null    object\n",
            " 3   RR                               780 non-null    int64 \n",
            " 4   Respiratory rate (breaths/min)   780 non-null    object\n",
            " 5   SBP                              780 non-null    int64 \n",
            " 6   Systolic blood pressure (mmHg)   780 non-null    object\n",
            " 7   DBP                              780 non-null    int64 \n",
            " 8   Diastolic blood pressure (mmHg)  780 non-null    object\n",
            "dtypes: int64(4), object(5)\n",
            "memory usage: 55.0+ KB\n"
          ]
        }
      ]
    },
    {
      "cell_type": "code",
      "source": [
        "# Merge datasets\n",
        "merged_data = pd.merge(randomazedata, studydata, on='Patient_ID', how='inner')\n",
        "merged_data = pd.merge(merged_data, demografdata, on='Patient_ID', how='inner')\n",
        "merged_data = pd.merge(merged_data, baselinedata, on='Patient_ID', how='inner')\n",
        "merged_data = pd.merge(merged_data, vitaldata, on='Patient_ID', how='inner')\n",
        "#merged_data.info()\n",
        "merged_data.head()"
      ],
      "metadata": {
        "colab": {
          "base_uri": "https://localhost:8080/",
          "height": 241
        },
        "id": "R5bhgeR2Bafg",
        "outputId": "c63075e7-c81c-4981-9f30-635cfb2cd575"
      },
      "execution_count": 10,
      "outputs": [
        {
          "output_type": "execute_result",
          "data": {
            "text/plain": [
              "  Patient_ID Treatment Center  ITT   PP  Age  Gender Work Surgery_1Y  PR  \\\n",
              "0    PID/001   PLACEBO     C1  YES  YES   24  Female   FT         NO  77   \n",
              "1    PID/002      TEST     C3  YES  YES   25    Male   FT         NO  74   \n",
              "2    PID/003      TEST     C2  YES  YES   22  Female   FT         NO  86   \n",
              "3    PID/004      TEST     C1  YES  YES   54  Female   FT         NO  84   \n",
              "4    PID/005   PLACEBO     C1  YES  YES   57    Male   FT         NO  84   \n",
              "\n",
              "  Pulse rate (beats/min)  RR Respiratory rate (breaths/min)  SBP  \\\n",
              "0              BEATS/MIN  16                    BREATHS/MIN  110   \n",
              "1              BEATS/MIN  17                    BREATHS/MIN  122   \n",
              "2              BEATS/MIN  14                    BREATHS/MIN  120   \n",
              "3              BEATS/MIN  16                    BREATHS/MIN  124   \n",
              "4              BEATS/MIN  15                    BREATHS/MIN  110   \n",
              "\n",
              "  Systolic blood pressure (mmHg)  DBP Diastolic blood pressure (mmHg)  \n",
              "0                           MMHG   80                            MMHG  \n",
              "1                           MMHG   70                            MMHG  \n",
              "2                           MMHG   80                            MMHG  \n",
              "3                           MMHG   82                            MMHG  \n",
              "4                           MMHG   80                            MMHG  "
            ],
            "text/html": [
              "\n",
              "  <div id=\"df-f76078e4-400a-4c06-b242-ef6b35df5d99\" class=\"colab-df-container\">\n",
              "    <div>\n",
              "<style scoped>\n",
              "    .dataframe tbody tr th:only-of-type {\n",
              "        vertical-align: middle;\n",
              "    }\n",
              "\n",
              "    .dataframe tbody tr th {\n",
              "        vertical-align: top;\n",
              "    }\n",
              "\n",
              "    .dataframe thead th {\n",
              "        text-align: right;\n",
              "    }\n",
              "</style>\n",
              "<table border=\"1\" class=\"dataframe\">\n",
              "  <thead>\n",
              "    <tr style=\"text-align: right;\">\n",
              "      <th></th>\n",
              "      <th>Patient_ID</th>\n",
              "      <th>Treatment</th>\n",
              "      <th>Center</th>\n",
              "      <th>ITT</th>\n",
              "      <th>PP</th>\n",
              "      <th>Age</th>\n",
              "      <th>Gender</th>\n",
              "      <th>Work</th>\n",
              "      <th>Surgery_1Y</th>\n",
              "      <th>PR</th>\n",
              "      <th>Pulse rate (beats/min)</th>\n",
              "      <th>RR</th>\n",
              "      <th>Respiratory rate (breaths/min)</th>\n",
              "      <th>SBP</th>\n",
              "      <th>Systolic blood pressure (mmHg)</th>\n",
              "      <th>DBP</th>\n",
              "      <th>Diastolic blood pressure (mmHg)</th>\n",
              "    </tr>\n",
              "  </thead>\n",
              "  <tbody>\n",
              "    <tr>\n",
              "      <th>0</th>\n",
              "      <td>PID/001</td>\n",
              "      <td>PLACEBO</td>\n",
              "      <td>C1</td>\n",
              "      <td>YES</td>\n",
              "      <td>YES</td>\n",
              "      <td>24</td>\n",
              "      <td>Female</td>\n",
              "      <td>FT</td>\n",
              "      <td>NO</td>\n",
              "      <td>77</td>\n",
              "      <td>BEATS/MIN</td>\n",
              "      <td>16</td>\n",
              "      <td>BREATHS/MIN</td>\n",
              "      <td>110</td>\n",
              "      <td>MMHG</td>\n",
              "      <td>80</td>\n",
              "      <td>MMHG</td>\n",
              "    </tr>\n",
              "    <tr>\n",
              "      <th>1</th>\n",
              "      <td>PID/002</td>\n",
              "      <td>TEST</td>\n",
              "      <td>C3</td>\n",
              "      <td>YES</td>\n",
              "      <td>YES</td>\n",
              "      <td>25</td>\n",
              "      <td>Male</td>\n",
              "      <td>FT</td>\n",
              "      <td>NO</td>\n",
              "      <td>74</td>\n",
              "      <td>BEATS/MIN</td>\n",
              "      <td>17</td>\n",
              "      <td>BREATHS/MIN</td>\n",
              "      <td>122</td>\n",
              "      <td>MMHG</td>\n",
              "      <td>70</td>\n",
              "      <td>MMHG</td>\n",
              "    </tr>\n",
              "    <tr>\n",
              "      <th>2</th>\n",
              "      <td>PID/003</td>\n",
              "      <td>TEST</td>\n",
              "      <td>C2</td>\n",
              "      <td>YES</td>\n",
              "      <td>YES</td>\n",
              "      <td>22</td>\n",
              "      <td>Female</td>\n",
              "      <td>FT</td>\n",
              "      <td>NO</td>\n",
              "      <td>86</td>\n",
              "      <td>BEATS/MIN</td>\n",
              "      <td>14</td>\n",
              "      <td>BREATHS/MIN</td>\n",
              "      <td>120</td>\n",
              "      <td>MMHG</td>\n",
              "      <td>80</td>\n",
              "      <td>MMHG</td>\n",
              "    </tr>\n",
              "    <tr>\n",
              "      <th>3</th>\n",
              "      <td>PID/004</td>\n",
              "      <td>TEST</td>\n",
              "      <td>C1</td>\n",
              "      <td>YES</td>\n",
              "      <td>YES</td>\n",
              "      <td>54</td>\n",
              "      <td>Female</td>\n",
              "      <td>FT</td>\n",
              "      <td>NO</td>\n",
              "      <td>84</td>\n",
              "      <td>BEATS/MIN</td>\n",
              "      <td>16</td>\n",
              "      <td>BREATHS/MIN</td>\n",
              "      <td>124</td>\n",
              "      <td>MMHG</td>\n",
              "      <td>82</td>\n",
              "      <td>MMHG</td>\n",
              "    </tr>\n",
              "    <tr>\n",
              "      <th>4</th>\n",
              "      <td>PID/005</td>\n",
              "      <td>PLACEBO</td>\n",
              "      <td>C1</td>\n",
              "      <td>YES</td>\n",
              "      <td>YES</td>\n",
              "      <td>57</td>\n",
              "      <td>Male</td>\n",
              "      <td>FT</td>\n",
              "      <td>NO</td>\n",
              "      <td>84</td>\n",
              "      <td>BEATS/MIN</td>\n",
              "      <td>15</td>\n",
              "      <td>BREATHS/MIN</td>\n",
              "      <td>110</td>\n",
              "      <td>MMHG</td>\n",
              "      <td>80</td>\n",
              "      <td>MMHG</td>\n",
              "    </tr>\n",
              "  </tbody>\n",
              "</table>\n",
              "</div>\n",
              "    <div class=\"colab-df-buttons\">\n",
              "\n",
              "  <div class=\"colab-df-container\">\n",
              "    <button class=\"colab-df-convert\" onclick=\"convertToInteractive('df-f76078e4-400a-4c06-b242-ef6b35df5d99')\"\n",
              "            title=\"Convert this dataframe to an interactive table.\"\n",
              "            style=\"display:none;\">\n",
              "\n",
              "  <svg xmlns=\"http://www.w3.org/2000/svg\" height=\"24px\" viewBox=\"0 -960 960 960\">\n",
              "    <path d=\"M120-120v-720h720v720H120Zm60-500h600v-160H180v160Zm220 220h160v-160H400v160Zm0 220h160v-160H400v160ZM180-400h160v-160H180v160Zm440 0h160v-160H620v160ZM180-180h160v-160H180v160Zm440 0h160v-160H620v160Z\"/>\n",
              "  </svg>\n",
              "    </button>\n",
              "\n",
              "  <style>\n",
              "    .colab-df-container {\n",
              "      display:flex;\n",
              "      gap: 12px;\n",
              "    }\n",
              "\n",
              "    .colab-df-convert {\n",
              "      background-color: #E8F0FE;\n",
              "      border: none;\n",
              "      border-radius: 50%;\n",
              "      cursor: pointer;\n",
              "      display: none;\n",
              "      fill: #1967D2;\n",
              "      height: 32px;\n",
              "      padding: 0 0 0 0;\n",
              "      width: 32px;\n",
              "    }\n",
              "\n",
              "    .colab-df-convert:hover {\n",
              "      background-color: #E2EBFA;\n",
              "      box-shadow: 0px 1px 2px rgba(60, 64, 67, 0.3), 0px 1px 3px 1px rgba(60, 64, 67, 0.15);\n",
              "      fill: #174EA6;\n",
              "    }\n",
              "\n",
              "    .colab-df-buttons div {\n",
              "      margin-bottom: 4px;\n",
              "    }\n",
              "\n",
              "    [theme=dark] .colab-df-convert {\n",
              "      background-color: #3B4455;\n",
              "      fill: #D2E3FC;\n",
              "    }\n",
              "\n",
              "    [theme=dark] .colab-df-convert:hover {\n",
              "      background-color: #434B5C;\n",
              "      box-shadow: 0px 1px 3px 1px rgba(0, 0, 0, 0.15);\n",
              "      filter: drop-shadow(0px 1px 2px rgba(0, 0, 0, 0.3));\n",
              "      fill: #FFFFFF;\n",
              "    }\n",
              "  </style>\n",
              "\n",
              "    <script>\n",
              "      const buttonEl =\n",
              "        document.querySelector('#df-f76078e4-400a-4c06-b242-ef6b35df5d99 button.colab-df-convert');\n",
              "      buttonEl.style.display =\n",
              "        google.colab.kernel.accessAllowed ? 'block' : 'none';\n",
              "\n",
              "      async function convertToInteractive(key) {\n",
              "        const element = document.querySelector('#df-f76078e4-400a-4c06-b242-ef6b35df5d99');\n",
              "        const dataTable =\n",
              "          await google.colab.kernel.invokeFunction('convertToInteractive',\n",
              "                                                    [key], {});\n",
              "        if (!dataTable) return;\n",
              "\n",
              "        const docLinkHtml = 'Like what you see? Visit the ' +\n",
              "          '<a target=\"_blank\" href=https://colab.research.google.com/notebooks/data_table.ipynb>data table notebook</a>'\n",
              "          + ' to learn more about interactive tables.';\n",
              "        element.innerHTML = '';\n",
              "        dataTable['output_type'] = 'display_data';\n",
              "        await google.colab.output.renderOutput(dataTable, element);\n",
              "        const docLink = document.createElement('div');\n",
              "        docLink.innerHTML = docLinkHtml;\n",
              "        element.appendChild(docLink);\n",
              "      }\n",
              "    </script>\n",
              "  </div>\n",
              "\n",
              "\n",
              "<div id=\"df-b3febd3a-42f2-457e-b0ee-d14c6182f61c\">\n",
              "  <button class=\"colab-df-quickchart\" onclick=\"quickchart('df-b3febd3a-42f2-457e-b0ee-d14c6182f61c')\"\n",
              "            title=\"Suggest charts\"\n",
              "            style=\"display:none;\">\n",
              "\n",
              "<svg xmlns=\"http://www.w3.org/2000/svg\" height=\"24px\"viewBox=\"0 0 24 24\"\n",
              "     width=\"24px\">\n",
              "    <g>\n",
              "        <path d=\"M19 3H5c-1.1 0-2 .9-2 2v14c0 1.1.9 2 2 2h14c1.1 0 2-.9 2-2V5c0-1.1-.9-2-2-2zM9 17H7v-7h2v7zm4 0h-2V7h2v10zm4 0h-2v-4h2v4z\"/>\n",
              "    </g>\n",
              "</svg>\n",
              "  </button>\n",
              "\n",
              "<style>\n",
              "  .colab-df-quickchart {\n",
              "      --bg-color: #E8F0FE;\n",
              "      --fill-color: #1967D2;\n",
              "      --hover-bg-color: #E2EBFA;\n",
              "      --hover-fill-color: #174EA6;\n",
              "      --disabled-fill-color: #AAA;\n",
              "      --disabled-bg-color: #DDD;\n",
              "  }\n",
              "\n",
              "  [theme=dark] .colab-df-quickchart {\n",
              "      --bg-color: #3B4455;\n",
              "      --fill-color: #D2E3FC;\n",
              "      --hover-bg-color: #434B5C;\n",
              "      --hover-fill-color: #FFFFFF;\n",
              "      --disabled-bg-color: #3B4455;\n",
              "      --disabled-fill-color: #666;\n",
              "  }\n",
              "\n",
              "  .colab-df-quickchart {\n",
              "    background-color: var(--bg-color);\n",
              "    border: none;\n",
              "    border-radius: 50%;\n",
              "    cursor: pointer;\n",
              "    display: none;\n",
              "    fill: var(--fill-color);\n",
              "    height: 32px;\n",
              "    padding: 0;\n",
              "    width: 32px;\n",
              "  }\n",
              "\n",
              "  .colab-df-quickchart:hover {\n",
              "    background-color: var(--hover-bg-color);\n",
              "    box-shadow: 0 1px 2px rgba(60, 64, 67, 0.3), 0 1px 3px 1px rgba(60, 64, 67, 0.15);\n",
              "    fill: var(--button-hover-fill-color);\n",
              "  }\n",
              "\n",
              "  .colab-df-quickchart-complete:disabled,\n",
              "  .colab-df-quickchart-complete:disabled:hover {\n",
              "    background-color: var(--disabled-bg-color);\n",
              "    fill: var(--disabled-fill-color);\n",
              "    box-shadow: none;\n",
              "  }\n",
              "\n",
              "  .colab-df-spinner {\n",
              "    border: 2px solid var(--fill-color);\n",
              "    border-color: transparent;\n",
              "    border-bottom-color: var(--fill-color);\n",
              "    animation:\n",
              "      spin 1s steps(1) infinite;\n",
              "  }\n",
              "\n",
              "  @keyframes spin {\n",
              "    0% {\n",
              "      border-color: transparent;\n",
              "      border-bottom-color: var(--fill-color);\n",
              "      border-left-color: var(--fill-color);\n",
              "    }\n",
              "    20% {\n",
              "      border-color: transparent;\n",
              "      border-left-color: var(--fill-color);\n",
              "      border-top-color: var(--fill-color);\n",
              "    }\n",
              "    30% {\n",
              "      border-color: transparent;\n",
              "      border-left-color: var(--fill-color);\n",
              "      border-top-color: var(--fill-color);\n",
              "      border-right-color: var(--fill-color);\n",
              "    }\n",
              "    40% {\n",
              "      border-color: transparent;\n",
              "      border-right-color: var(--fill-color);\n",
              "      border-top-color: var(--fill-color);\n",
              "    }\n",
              "    60% {\n",
              "      border-color: transparent;\n",
              "      border-right-color: var(--fill-color);\n",
              "    }\n",
              "    80% {\n",
              "      border-color: transparent;\n",
              "      border-right-color: var(--fill-color);\n",
              "      border-bottom-color: var(--fill-color);\n",
              "    }\n",
              "    90% {\n",
              "      border-color: transparent;\n",
              "      border-bottom-color: var(--fill-color);\n",
              "    }\n",
              "  }\n",
              "</style>\n",
              "\n",
              "  <script>\n",
              "    async function quickchart(key) {\n",
              "      const quickchartButtonEl =\n",
              "        document.querySelector('#' + key + ' button');\n",
              "      quickchartButtonEl.disabled = true;  // To prevent multiple clicks.\n",
              "      quickchartButtonEl.classList.add('colab-df-spinner');\n",
              "      try {\n",
              "        const charts = await google.colab.kernel.invokeFunction(\n",
              "            'suggestCharts', [key], {});\n",
              "      } catch (error) {\n",
              "        console.error('Error during call to suggestCharts:', error);\n",
              "      }\n",
              "      quickchartButtonEl.classList.remove('colab-df-spinner');\n",
              "      quickchartButtonEl.classList.add('colab-df-quickchart-complete');\n",
              "    }\n",
              "    (() => {\n",
              "      let quickchartButtonEl =\n",
              "        document.querySelector('#df-b3febd3a-42f2-457e-b0ee-d14c6182f61c button');\n",
              "      quickchartButtonEl.style.display =\n",
              "        google.colab.kernel.accessAllowed ? 'block' : 'none';\n",
              "    })();\n",
              "  </script>\n",
              "</div>\n",
              "    </div>\n",
              "  </div>\n"
            ],
            "application/vnd.google.colaboratory.intrinsic+json": {
              "type": "dataframe",
              "variable_name": "merged_data",
              "summary": "{\n  \"name\": \"merged_data\",\n  \"rows\": 780,\n  \"fields\": [\n    {\n      \"column\": \"Patient_ID\",\n      \"properties\": {\n        \"dtype\": \"string\",\n        \"num_unique_values\": 780,\n        \"samples\": [\n          \"PID/596\",\n          \"PID/588\",\n          \"PID/544\"\n        ],\n        \"semantic_type\": \"\",\n        \"description\": \"\"\n      }\n    },\n    {\n      \"column\": \"Treatment\",\n      \"properties\": {\n        \"dtype\": \"category\",\n        \"num_unique_values\": 3,\n        \"samples\": [\n          \"PLACEBO\",\n          \"TEST\",\n          \"REF\"\n        ],\n        \"semantic_type\": \"\",\n        \"description\": \"\"\n      }\n    },\n    {\n      \"column\": \"Center\",\n      \"properties\": {\n        \"dtype\": \"category\",\n        \"num_unique_values\": 4,\n        \"samples\": [\n          \"C3\",\n          \"C4\",\n          \"C1\"\n        ],\n        \"semantic_type\": \"\",\n        \"description\": \"\"\n      }\n    },\n    {\n      \"column\": \"ITT\",\n      \"properties\": {\n        \"dtype\": \"category\",\n        \"num_unique_values\": 1,\n        \"samples\": [\n          \"YES\"\n        ],\n        \"semantic_type\": \"\",\n        \"description\": \"\"\n      }\n    },\n    {\n      \"column\": \"PP\",\n      \"properties\": {\n        \"dtype\": \"category\",\n        \"num_unique_values\": 2,\n        \"samples\": [\n          \"NO\"\n        ],\n        \"semantic_type\": \"\",\n        \"description\": \"\"\n      }\n    },\n    {\n      \"column\": \"Age\",\n      \"properties\": {\n        \"dtype\": \"number\",\n        \"std\": 12,\n        \"min\": 18,\n        \"max\": 60,\n        \"num_unique_values\": 43,\n        \"samples\": [\n          39\n        ],\n        \"semantic_type\": \"\",\n        \"description\": \"\"\n      }\n    },\n    {\n      \"column\": \"Gender\",\n      \"properties\": {\n        \"dtype\": \"category\",\n        \"num_unique_values\": 2,\n        \"samples\": [\n          \"Male\"\n        ],\n        \"semantic_type\": \"\",\n        \"description\": \"\"\n      }\n    },\n    {\n      \"column\": \"Work\",\n      \"properties\": {\n        \"dtype\": \"category\",\n        \"num_unique_values\": 3,\n        \"samples\": [\n          \"FT\"\n        ],\n        \"semantic_type\": \"\",\n        \"description\": \"\"\n      }\n    },\n    {\n      \"column\": \"Surgery_1Y\",\n      \"properties\": {\n        \"dtype\": \"category\",\n        \"num_unique_values\": 2,\n        \"samples\": [\n          \"YES\"\n        ],\n        \"semantic_type\": \"\",\n        \"description\": \"\"\n      }\n    },\n    {\n      \"column\": \"PR\",\n      \"properties\": {\n        \"dtype\": \"number\",\n        \"std\": 4,\n        \"min\": 68,\n        \"max\": 92,\n        \"num_unique_values\": 18,\n        \"samples\": [\n          77\n        ],\n        \"semantic_type\": \"\",\n        \"description\": \"\"\n      }\n    },\n    {\n      \"column\": \"Pulse rate (beats/min)\",\n      \"properties\": {\n        \"dtype\": \"category\",\n        \"num_unique_values\": 1,\n        \"samples\": [\n          \"BEATS/MIN\"\n        ],\n        \"semantic_type\": \"\",\n        \"description\": \"\"\n      }\n    },\n    {\n      \"column\": \"RR\",\n      \"properties\": {\n        \"dtype\": \"number\",\n        \"std\": 1,\n        \"min\": 12,\n        \"max\": 25,\n        \"num_unique_values\": 9,\n        \"samples\": [\n          19\n        ],\n        \"semantic_type\": \"\",\n        \"description\": \"\"\n      }\n    },\n    {\n      \"column\": \"Respiratory rate (breaths/min)\",\n      \"properties\": {\n        \"dtype\": \"category\",\n        \"num_unique_values\": 1,\n        \"samples\": [\n          \"BREATHS/MIN\"\n        ],\n        \"semantic_type\": \"\",\n        \"description\": \"\"\n      }\n    },\n    {\n      \"column\": \"SBP\",\n      \"properties\": {\n        \"dtype\": \"number\",\n        \"std\": 5,\n        \"min\": 110,\n        \"max\": 132,\n        \"num_unique_values\": 12,\n        \"samples\": [\n          132\n        ],\n        \"semantic_type\": \"\",\n        \"description\": \"\"\n      }\n    },\n    {\n      \"column\": \"Systolic blood pressure (mmHg)\",\n      \"properties\": {\n        \"dtype\": \"category\",\n        \"num_unique_values\": 1,\n        \"samples\": [\n          \"MMHG\"\n        ],\n        \"semantic_type\": \"\",\n        \"description\": \"\"\n      }\n    },\n    {\n      \"column\": \"DBP\",\n      \"properties\": {\n        \"dtype\": \"number\",\n        \"std\": 5,\n        \"min\": 68,\n        \"max\": 88,\n        \"num_unique_values\": 11,\n        \"samples\": [\n          86\n        ],\n        \"semantic_type\": \"\",\n        \"description\": \"\"\n      }\n    },\n    {\n      \"column\": \"Diastolic blood pressure (mmHg)\",\n      \"properties\": {\n        \"dtype\": \"category\",\n        \"num_unique_values\": 1,\n        \"samples\": [\n          \"MMHG\"\n        ],\n        \"semantic_type\": \"\",\n        \"description\": \"\"\n      }\n    }\n  ]\n}"
            }
          },
          "metadata": {},
          "execution_count": 10
        }
      ]
    },
    {
      "cell_type": "code",
      "source": [
        "demographics_summary = merged_data.groupby(['Center', 'Treatment']).agg({\n",
        "   'Age': ['mean', 'std'],\n",
        "   'Gender': lambda x: x.mode()[0],  # Most frequent gender\n",
        "}).reset_index()\n",
        "\n",
        "print(\"Demographics Summary:\")\n",
        "print(demographics_summary)"
      ],
      "metadata": {
        "colab": {
          "base_uri": "https://localhost:8080/"
        },
        "id": "7zvIY370BiNk",
        "outputId": "074b6186-b6f0-4cfd-9bc7-c6bb34cf3dc1"
      },
      "execution_count": 11,
      "outputs": [
        {
          "output_type": "stream",
          "name": "stdout",
          "text": [
            "Demographics Summary:\n",
            "   Center Treatment        Age              Gender\n",
            "                          mean        std <lambda>\n",
            "0      C1   PLACEBO  39.884058  12.985893   Female\n",
            "1      C1       REF  41.000000  11.207928     Male\n",
            "2      C1      TEST  35.942308  12.054474   Female\n",
            "3      C2   PLACEBO  38.721311  12.248988     Male\n",
            "4      C2       REF  39.163636  12.425725   Female\n",
            "5      C2      TEST  41.640000  13.519395     Male\n",
            "6      C3   PLACEBO  40.840000  12.092034     Male\n",
            "7      C3       REF  39.657143  11.968419   Female\n",
            "8      C3      TEST  38.981481  13.112706     Male\n",
            "9      C4   PLACEBO  41.000000  12.216482     Male\n",
            "10     C4       REF  39.925373  13.008521     Male\n",
            "11     C4      TEST  37.287879  11.863020   Female\n"
          ]
        }
      ]
    },
    {
      "cell_type": "code",
      "source": [
        "# Summary table of baseline characteristics by treatment groups for each center\n",
        "baseline_summary = merged_data.groupby(['Center', 'Treatment']).agg({\n",
        "   'Work': lambda x: x.mode()[0],  # Most frequent work status\n",
        "   'Surgery_1Y': lambda x: x.mode()[0],  # Most frequent surgery status\n",
        "}).reset_index()\n",
        "\n",
        "print(\"\\nBaseline Characteristics Summary:\")\n",
        "print(baseline_summary)"
      ],
      "metadata": {
        "colab": {
          "base_uri": "https://localhost:8080/"
        },
        "id": "sqHJAb4aB6qj",
        "outputId": "09c370be-e1e4-44c6-f4b6-75b5eb8d628b"
      },
      "execution_count": 12,
      "outputs": [
        {
          "output_type": "stream",
          "name": "stdout",
          "text": [
            "\n",
            "Baseline Characteristics Summary:\n",
            "   Center Treatment Work Surgery_1Y\n",
            "0      C1   PLACEBO   FT         NO\n",
            "1      C1       REF   FT         NO\n",
            "2      C1      TEST   FT         NO\n",
            "3      C2   PLACEBO   FT         NO\n",
            "4      C2       REF   FT         NO\n",
            "5      C2      TEST   FT         NO\n",
            "6      C3   PLACEBO   FT         NO\n",
            "7      C3       REF   FT         NO\n",
            "8      C3      TEST   FT         NO\n",
            "9      C4   PLACEBO   FT         NO\n",
            "10     C4       REF   FT         NO\n",
            "11     C4      TEST   FT         NO\n"
          ]
        }
      ]
    },
    {
      "cell_type": "code",
      "source": [
        "vital_summary = merged_data.groupby(['Center', 'Treatment']).agg({\n",
        "   'PR': ['mean', 'std'],\n",
        "   'RR': ['mean', 'std'],\n",
        "   'SBP': ['mean', 'std'],\n",
        "   'DBP': ['mean', 'std']\n",
        "}).reset_index()\n",
        "\n",
        "print(\"\\nVital Signs Summary:\")\n",
        "print(vital_summary)"
      ],
      "metadata": {
        "colab": {
          "base_uri": "https://localhost:8080/"
        },
        "id": "iyG195TJCP7E",
        "outputId": "f6fe137d-f507-4819-8ad9-f896d4ceace6"
      },
      "execution_count": 13,
      "outputs": [
        {
          "output_type": "stream",
          "name": "stdout",
          "text": [
            "\n",
            "Vital Signs Summary:\n",
            "   Center Treatment         PR                   RR                   SBP  \\\n",
            "                          mean       std       mean       std        mean   \n",
            "0      C1   PLACEBO  80.057971  5.384848  16.521739  1.922075  119.130435   \n",
            "1      C1       REF  80.000000  4.290893  16.289855  2.058708  118.927536   \n",
            "2      C1      TEST  79.769231  4.976870  15.961538  1.342540  119.615385   \n",
            "3      C2   PLACEBO  79.409836  4.529080  16.081967  1.744468  119.114754   \n",
            "4      C2       REF  79.527273  5.006864  16.072727  1.537850  119.745455   \n",
            "5      C2      TEST  80.026667  5.462336  16.066667  1.926580  118.773333   \n",
            "6      C3   PLACEBO  79.506667  4.998306  16.253333  1.724962  119.173333   \n",
            "7      C3       REF  78.942857  4.913412  16.085714  1.369892  117.942857   \n",
            "8      C3      TEST  79.777778  4.936069  16.407407  1.848186  120.444444   \n",
            "9      C4   PLACEBO  79.582090  4.472642  16.059701  1.475873  118.626866   \n",
            "10     C4       REF  78.746269  5.185479  15.597015  1.268018  118.626866   \n",
            "11     C4      TEST  80.136364  4.423317  15.939394  1.527983  118.909091   \n",
            "\n",
            "                    DBP            \n",
            "         std       mean       std  \n",
            "0   5.955504  77.710145  5.586490  \n",
            "1   6.064164  78.405797  4.722658  \n",
            "2   5.643507  77.923077  5.193685  \n",
            "3   5.310676  79.016393  5.460439  \n",
            "4   4.761801  77.818182  5.514596  \n",
            "5   4.786166  78.506667  4.943938  \n",
            "6   5.492927  78.506667  5.413630  \n",
            "7   5.594733  77.285714  5.657220  \n",
            "8   5.797419  78.962963  4.986635  \n",
            "9   5.691130  78.208955  4.937603  \n",
            "10  4.801628  76.985075  5.144849  \n",
            "11  5.098197  77.515152  5.480714  \n"
          ]
        }
      ]
    },
    {
      "cell_type": "code",
      "source": [
        "plt.figure(figsize=(10, 6))\n",
        "sns.boxplot(data=merged_data, x='Treatment', y='Age', hue='Center')\n",
        "plt.title('Age Distribution by Treatment Groups for Each Center')\n",
        "plt.xlabel('Treatment')\n",
        "plt.ylabel('Age')\n",
        "plt.legend(title='Center')\n",
        "plt.show()"
      ],
      "metadata": {
        "colab": {
          "base_uri": "https://localhost:8080/",
          "height": 564
        },
        "id": "zqr4_R-7Cllu",
        "outputId": "ee787d21-993e-4c71-9802-de14dae16ee3"
      },
      "execution_count": 14,
      "outputs": [
        {
          "output_type": "display_data",
          "data": {
            "text/plain": [
              "<Figure size 1000x600 with 1 Axes>"
            ],
            "image/png": "[encoded data removed]"
          },
          "metadata": {}
        }
      ]
    },
    {
      "cell_type": "code",
      "source": [
        "# Pulse Rate\n",
        "plt.figure(figsize=(10, 6))\n",
        "sns.boxplot(data=merged_data, x='Treatment', y='PR', hue='Center')\n",
        "plt.title('Pulse Rate by Treatment Groups for Each Center')\n",
        "plt.xlabel('Treatment')\n",
        "plt.ylabel('Pulse Rate')\n",
        "plt.legend(title='Center')\n",
        "plt.show()\n",
        "\n",
        "# Respiratory Rate\n",
        "plt.figure(figsize=(10, 6))\n",
        "sns.boxplot(data=merged_data, x='Treatment', y='RR', hue='Center')\n",
        "plt.title('Respiratory Rate by Treatment Groups for Each Center')\n",
        "plt.xlabel('Treatment')\n",
        "plt.ylabel('Respiratory Rate')\n",
        "plt.legend(title='Center')\n",
        "plt.show()"
      ],
      "metadata": {
        "colab": {
          "base_uri": "https://localhost:8080/",
          "height": 1000
        },
        "id": "zv91sxV-Cua4",
        "outputId": "7756255a-57b9-460f-c93a-adfe9cb945f1"
      },
      "execution_count": 15,
      "outputs": [
        {
          "output_type": "display_data",
          "data": {
            "text/plain": [
              "<Figure size 1000x600 with 1 Axes>"
            ],
            "image/png": "[encoded data removed]"
          },
          "metadata": {}
        },
        {
          "output_type": "display_data",
          "data": {
            "text/plain": [
              "<Figure size 1000x600 with 1 Axes>"
            ],
            "image/png": "[encoded data removed]"
          },
          "metadata": {}
        }
      ]
    },
    {
      "cell_type": "markdown",
      "source": [
        "Phase 2: Preliminary Analysis of VAS, AE, and Global Assessment"
      ],
      "metadata": {
        "id": "c1VfXsdWC3Hk"
      }
    },
    {
      "cell_type": "code",
      "source": [
        "# Merge Randomization and VAS Data\n",
        "# Merge randomization and VAS data\n",
        "vas_merged_data = randomazedata.merge(vasdata, on='Patient_ID', how='inner')\n",
        "\n",
        "# Check merged data\n",
        "vas_merged_data.info()"
      ],
      "metadata": {
        "colab": {
          "base_uri": "https://localhost:8080/"
        },
        "id": "RMvYLptMCzwp",
        "outputId": "832c81c4-6366-4a2a-eba4-8517e75e8d69"
      },
      "execution_count": 20,
      "outputs": [
        {
          "output_type": "stream",
          "name": "stdout",
          "text": [
            "<class 'pandas.core.frame.DataFrame'>\n",
            "RangeIndex: 5460 entries, 0 to 5459\n",
            "Data columns (total 5 columns):\n",
            " #   Column      Non-Null Count  Dtype \n",
            "---  ------      --------------  ----- \n",
            " 0   Patient_ID  5460 non-null   object\n",
            " 1   Treatment   5460 non-null   object\n",
            " 2   Center      5460 non-null   object\n",
            " 3   Day         5460 non-null   object\n",
            " 4   VAS         5460 non-null   int64 \n",
            "dtypes: int64(1), object(4)\n",
            "memory usage: 213.4+ KB\n"
          ]
        }
      ]
    },
    {
      "cell_type": "code",
      "source": [
        "# Summarize VAS for Each Day\n",
        "# Summary statistics of VAS by day and treatment groups\n",
        "summary_stats = vas_merged_data.groupby(['Treatment', 'Day']).agg({\n",
        "    'VAS': ['count', 'mean', 'std', 'median', 'min', 'max']\n",
        "}).reset_index()\n",
        "\n",
        "print(summary_stats)"
      ],
      "metadata": {
        "colab": {
          "base_uri": "https://localhost:8080/"
        },
        "id": "hbMFpNhdDCpK",
        "outputId": "fb3bb5cb-f3ab-4fb5-aaca-42061d5826fc"
      },
      "execution_count": 21,
      "outputs": [
        {
          "output_type": "stream",
          "name": "stdout",
          "text": [
            "   Treatment   Day   VAS                                     \n",
            "                   count       mean        std median min max\n",
            "0    PLACEBO  DAY1   272  64.555147  14.558594   66.0  22  91\n",
            "1    PLACEBO  DAY2   272  57.363971  14.177703   58.0  18  86\n",
            "2    PLACEBO  DAY3   272  49.022059  16.324643   51.0   0  77\n",
            "3    PLACEBO  DAY4   272  41.106618  15.079116   45.0   0  68\n",
            "4    PLACEBO  DAY5   272  35.216912  15.206840   36.5   0  60\n",
            "5    PLACEBO  DAY6   272  31.356618  17.269986   29.0   0  68\n",
            "6    PLACEBO  DAY7   272  28.000000  18.209523   26.0   0  69\n",
            "7        REF  DAY1   261  63.406130  16.751458   72.0  16  87\n",
            "8        REF  DAY2   261  46.735632  19.881259   48.0   0  81\n",
            "9        REF  DAY3   261  29.593870  21.475474   29.0   0  77\n",
            "10       REF  DAY4   261  21.823755  17.683314   24.0   0  66\n",
            "11       REF  DAY5   261  17.567050  15.756083   19.0   0  65\n",
            "12       REF  DAY6   261  13.337165  14.629571    4.0   0  64\n",
            "13       REF  DAY7   261  11.111111  13.987051    3.0   0  62\n",
            "14      TEST  DAY1   247  62.744939  17.613388   72.0  16  87\n",
            "15      TEST  DAY2   247  45.761134  20.660329   48.0   0  80\n",
            "16      TEST  DAY3   247  29.113360  21.697741   30.0   0  75\n",
            "17      TEST  DAY4   247  21.174089  17.789135   23.0   0  65\n",
            "18      TEST  DAY5   247  17.064777  15.818452   17.0   0  64\n",
            "19      TEST  DAY6   247  12.955466  14.356454    4.0   0  65\n",
            "20      TEST  DAY7   247  10.728745  13.711135    3.0   0  62\n"
          ]
        }
      ]
    },
    {
      "cell_type": "code",
      "source": [
        "plt.figure(figsize=(10, 6))\n",
        "sns.boxplot(data=vas_merged_data, x='Day', y='VAS', hue='Treatment')\n",
        "plt.title('Visual Analogue Scale (VAS) by Day and Treatment')\n",
        "plt.xlabel('Day')\n",
        "plt.ylabel('VAS')\n",
        "plt.legend(title='Treatment')\n",
        "plt.show()"
      ],
      "metadata": {
        "colab": {
          "base_uri": "https://localhost:8080/",
          "height": 564
        },
        "id": "1EZo9296DOMJ",
        "outputId": "d0deb675-8593-43db-8907-85d2a242af4d"
      },
      "execution_count": 22,
      "outputs": [
        {
          "output_type": "display_data",
          "data": {
            "text/plain": [
              "<Figure size 1000x600 with 1 Axes>"
            ],
            "image/png": "[encoded data removed]"
          },
          "metadata": {}
        }
      ]
    },
    {
      "cell_type": "code",
      "source": [
        "# Pivot VAS data\n",
        "vas_pivot = vas_merged_data.pivot(index='Patient_ID', columns='Day', values='VAS').reset_index()\n",
        "# Rename columns for clarity\n",
        "vas_pivot.columns.name = None\n",
        "\n",
        "# Calculate change from baseline (Day 1)\n",
        "for day in ['Day2', 'Day3', 'Day4', 'Day5', 'Day6', 'Day7']:\n",
        "    vas_pivot[f'Change_{day}'] = vas_pivot[day] - vas_pivot['Day1']\n",
        "\n",
        "# Merge with randomization data for treatment groups\n",
        "vas_change_data = randomazedata.merge(vas_pivot, on='Patient_ID', how='inner')\n",
        "\n",
        "# Summary statistics of change from baseline\n",
        "change_summary = vas_change_data.groupby('Treatment').agg({\n",
        "    'Change_Day2': ['mean', 'std', 'median', 'min', 'max'],\n",
        "    'Change_Day3': ['mean', 'std', 'median', 'min', 'max'],\n",
        "    'Change_Day4': ['mean', 'std', 'median', 'min', 'max'],\n",
        "    'Change_Day5': ['mean', 'std', 'median', 'min', 'max'],\n",
        "    'Change_Day6': ['mean', 'std', 'median', 'min', 'max'],\n",
        "    'Change_Day7': ['mean', 'std', 'median', 'min', 'max'],\n",
        "}).reset_index()\n",
        "\n",
        "print(change_summary)"
      ],
      "metadata": {
        "colab": {
          "base_uri": "https://localhost:8080/",
          "height": 511
        },
        "id": "T8_bdB6eDT-t",
        "outputId": "1a0fab8f-066e-4d1c-cf21-9bf39fcfc0dc"
      },
      "execution_count": 30,
      "outputs": [
        {
          "output_type": "error",
          "ename": "KeyError",
          "evalue": "'Day2'",
          "traceback": [
            "\u001b[0;31m---------------------------------------------------------------------------\u001b[0m",
            "\u001b[0;31mKeyError\u001b[0m                                  Traceback (most recent call last)",
            "\u001b[0;32m/usr/local/lib/python3.10/dist-packages/pandas/core/indexes/base.py\u001b[0m in \u001b[0;36mget_loc\u001b[0;34m(self, key)\u001b[0m\n\u001b[1;32m   3652\u001b[0m         \u001b[0;32mtry\u001b[0m\u001b[0;34m:\u001b[0m\u001b[0;34m\u001b[0m\u001b[0;34m\u001b[0m\u001b[0m\n\u001b[0;32m-> 3653\u001b[0;31m             \u001b[0;32mreturn\u001b[0m \u001b[0mself\u001b[0m\u001b[0;34m.\u001b[0m\u001b[0m_engine\u001b[0m\u001b[0;34m.\u001b[0m\u001b[0mget_loc\u001b[0m\u001b[0;34m(\u001b[0m\u001b[0mcasted_key\u001b[0m\u001b[0;34m)\u001b[0m\u001b[0;34m\u001b[0m\u001b[0;34m\u001b[0m\u001b[0m\n\u001b[0m\u001b[1;32m   3654\u001b[0m         \u001b[0;32mexcept\u001b[0m \u001b[0mKeyError\u001b[0m \u001b[0;32mas\u001b[0m \u001b[0merr\u001b[0m\u001b[0;34m:\u001b[0m\u001b[0;34m\u001b[0m\u001b[0;34m\u001b[0m\u001b[0m\n",
            "\u001b[0;32m/usr/local/lib/python3.10/dist-packages/pandas/_libs/index.pyx\u001b[0m in \u001b[0;36mpandas._libs.index.IndexEngine.get_loc\u001b[0;34m()\u001b[0m\n",
            "\u001b[0;32m/usr/local/lib/python3.10/dist-packages/pandas/_libs/index.pyx\u001b[0m in \u001b[0;36mpandas._libs.index.IndexEngine.get_loc\u001b[0;34m()\u001b[0m\n",
            "\u001b[0;32mpandas/_libs/hashtable_class_helper.pxi\u001b[0m in \u001b[0;36mpandas._libs.hashtable.PyObjectHashTable.get_item\u001b[0;34m()\u001b[0m\n",
            "\u001b[0;32mpandas/_libs/hashtable_class_helper.pxi\u001b[0m in \u001b[0;36mpandas._libs.hashtable.PyObjectHashTable.get_item\u001b[0;34m()\u001b[0m\n",
            "\u001b[0;31mKeyError\u001b[0m: 'Day2'",
            "\nThe above exception was the direct cause of the following exception:\n",
            "\u001b[0;31mKeyError\u001b[0m                                  Traceback (most recent call last)",
            "\u001b[0;32m<ipython-input-30-5d528a9d7ffa>\u001b[0m in \u001b[0;36m<cell line: 7>\u001b[0;34m()\u001b[0m\n\u001b[1;32m      6\u001b[0m \u001b[0;31m# Calculate change from baseline (Day 1)\u001b[0m\u001b[0;34m\u001b[0m\u001b[0;34m\u001b[0m\u001b[0m\n\u001b[1;32m      7\u001b[0m \u001b[0;32mfor\u001b[0m \u001b[0mday\u001b[0m \u001b[0;32min\u001b[0m \u001b[0;34m[\u001b[0m\u001b[0;34m'Day2'\u001b[0m\u001b[0;34m,\u001b[0m \u001b[0;34m'Day3'\u001b[0m\u001b[0;34m,\u001b[0m \u001b[0;34m'Day4'\u001b[0m\u001b[0;34m,\u001b[0m \u001b[0;34m'Day5'\u001b[0m\u001b[0;34m,\u001b[0m \u001b[0;34m'Day6'\u001b[0m\u001b[0;34m,\u001b[0m \u001b[0;34m'Day7'\u001b[0m\u001b[0;34m]\u001b[0m\u001b[0;34m:\u001b[0m\u001b[0;34m\u001b[0m\u001b[0;34m\u001b[0m\u001b[0m\n\u001b[0;32m----> 8\u001b[0;31m     \u001b[0mvas_pivot\u001b[0m\u001b[0;34m[\u001b[0m\u001b[0;34mf'Change_{day}'\u001b[0m\u001b[0;34m]\u001b[0m \u001b[0;34m=\u001b[0m \u001b[0mvas_pivot\u001b[0m\u001b[0;34m[\u001b[0m\u001b[0mday\u001b[0m\u001b[0;34m]\u001b[0m \u001b[0;34m-\u001b[0m \u001b[0mvas_pivot\u001b[0m\u001b[0;34m[\u001b[0m\u001b[0;34m'Day1'\u001b[0m\u001b[0;34m]\u001b[0m\u001b[0;34m\u001b[0m\u001b[0;34m\u001b[0m\u001b[0m\n\u001b[0m\u001b[1;32m      9\u001b[0m \u001b[0;34m\u001b[0m\u001b[0m\n\u001b[1;32m     10\u001b[0m \u001b[0;31m# Merge with randomization data for treatment groups\u001b[0m\u001b[0;34m\u001b[0m\u001b[0;34m\u001b[0m\u001b[0m\n",
            "\u001b[0;32m/usr/local/lib/python3.10/dist-packages/pandas/core/frame.py\u001b[0m in \u001b[0;36m__getitem__\u001b[0;34m(self, key)\u001b[0m\n\u001b[1;32m   3759\u001b[0m             \u001b[0;32mif\u001b[0m \u001b[0mself\u001b[0m\u001b[0;34m.\u001b[0m\u001b[0mcolumns\u001b[0m\u001b[0;34m.\u001b[0m\u001b[0mnlevels\u001b[0m \u001b[0;34m>\u001b[0m \u001b[0;36m1\u001b[0m\u001b[0;34m:\u001b[0m\u001b[0;34m\u001b[0m\u001b[0;34m\u001b[0m\u001b[0m\n\u001b[1;32m   3760\u001b[0m                 \u001b[0;32mreturn\u001b[0m \u001b[0mself\u001b[0m\u001b[0;34m.\u001b[0m\u001b[0m_getitem_multilevel\u001b[0m\u001b[0;34m(\u001b[0m\u001b[0mkey\u001b[0m\u001b[0;34m)\u001b[0m\u001b[0;34m\u001b[0m\u001b[0;34m\u001b[0m\u001b[0m\n\u001b[0;32m-> 3761\u001b[0;31m             \u001b[0mindexer\u001b[0m \u001b[0;34m=\u001b[0m \u001b[0mself\u001b[0m\u001b[0;34m.\u001b[0m\u001b[0mcolumns\u001b[0m\u001b[0;34m.\u001b[0m\u001b[0mget_loc\u001b[0m\u001b[0;34m(\u001b[0m\u001b[0mkey\u001b[0m\u001b[0;34m)\u001b[0m\u001b[0;34m\u001b[0m\u001b[0;34m\u001b[0m\u001b[0m\n\u001b[0m\u001b[1;32m   3762\u001b[0m             \u001b[0;32mif\u001b[0m \u001b[0mis_integer\u001b[0m\u001b[0;34m(\u001b[0m\u001b[0mindexer\u001b[0m\u001b[0;34m)\u001b[0m\u001b[0;34m:\u001b[0m\u001b[0;34m\u001b[0m\u001b[0;34m\u001b[0m\u001b[0m\n\u001b[1;32m   3763\u001b[0m                 \u001b[0mindexer\u001b[0m \u001b[0;34m=\u001b[0m \u001b[0;34m[\u001b[0m\u001b[0mindexer\u001b[0m\u001b[0;34m]\u001b[0m\u001b[0;34m\u001b[0m\u001b[0;34m\u001b[0m\u001b[0m\n",
            "\u001b[0;32m/usr/local/lib/python3.10/dist-packages/pandas/core/indexes/base.py\u001b[0m in \u001b[0;36mget_loc\u001b[0;34m(self, key)\u001b[0m\n\u001b[1;32m   3653\u001b[0m             \u001b[0;32mreturn\u001b[0m \u001b[0mself\u001b[0m\u001b[0;34m.\u001b[0m\u001b[0m_engine\u001b[0m\u001b[0;34m.\u001b[0m\u001b[0mget_loc\u001b[0m\u001b[0;34m(\u001b[0m\u001b[0mcasted_key\u001b[0m\u001b[0;34m)\u001b[0m\u001b[0;34m\u001b[0m\u001b[0;34m\u001b[0m\u001b[0m\n\u001b[1;32m   3654\u001b[0m         \u001b[0;32mexcept\u001b[0m \u001b[0mKeyError\u001b[0m \u001b[0;32mas\u001b[0m \u001b[0merr\u001b[0m\u001b[0;34m:\u001b[0m\u001b[0;34m\u001b[0m\u001b[0;34m\u001b[0m\u001b[0m\n\u001b[0;32m-> 3655\u001b[0;31m             \u001b[0;32mraise\u001b[0m \u001b[0mKeyError\u001b[0m\u001b[0;34m(\u001b[0m\u001b[0mkey\u001b[0m\u001b[0;34m)\u001b[0m \u001b[0;32mfrom\u001b[0m \u001b[0merr\u001b[0m\u001b[0;34m\u001b[0m\u001b[0;34m\u001b[0m\u001b[0m\n\u001b[0m\u001b[1;32m   3656\u001b[0m         \u001b[0;32mexcept\u001b[0m \u001b[0mTypeError\u001b[0m\u001b[0;34m:\u001b[0m\u001b[0;34m\u001b[0m\u001b[0;34m\u001b[0m\u001b[0m\n\u001b[1;32m   3657\u001b[0m             \u001b[0;31m# If we have a listlike key, _check_indexing_error will raise\u001b[0m\u001b[0;34m\u001b[0m\u001b[0;34m\u001b[0m\u001b[0m\n",
            "\u001b[0;31mKeyError\u001b[0m: 'Day2'"
          ]
        }
      ]
    },
    {
      "cell_type": "code",
      "source": [
        "# Melt data for visualization\n",
        "vas_melted = pd.melt(vas_change_data, id_vars=['Patient_ID', 'Treatment'],\n",
        "                     value_vars=['Change_Day2', 'Change_Day3', 'Change_Day4', 'Change_Day5', 'Change_Day6', 'Change_Day7'],\n",
        "                     var_name='Day', value_name='Change_from_Baseline')\n",
        "\n",
        "plt.figure(figsize=(10, 6))\n",
        "sns.boxplot(data=vas_melted, x='Day', y='Change_from_Baseline', hue='Treatment')\n",
        "plt.title('Change from Baseline in VAS by Day and Treatment')\n",
        "plt.xlabel('Day')\n",
        "plt.ylabel('Change from Baseline in VAS')\n",
        "plt.legend(title='Treatment')\n",
        "plt.show()"
      ],
      "metadata": {
        "colab": {
          "base_uri": "https://localhost:8080/",
          "height": 224
        },
        "id": "-y-wATewDu3I",
        "outputId": "fb5c38aa-4ec7-4e22-d9e5-0af0a85890aa"
      },
      "execution_count": 31,
      "outputs": [
        {
          "output_type": "error",
          "ename": "NameError",
          "evalue": "name 'vas_change_data' is not defined",
          "traceback": [
            "\u001b[0;31m---------------------------------------------------------------------------\u001b[0m",
            "\u001b[0;31mNameError\u001b[0m                                 Traceback (most recent call last)",
            "\u001b[0;32m<ipython-input-31-83b326a56cfb>\u001b[0m in \u001b[0;36m<cell line: 2>\u001b[0;34m()\u001b[0m\n\u001b[1;32m      1\u001b[0m \u001b[0;31m# Melt data for visualization\u001b[0m\u001b[0;34m\u001b[0m\u001b[0;34m\u001b[0m\u001b[0m\n\u001b[0;32m----> 2\u001b[0;31m vas_melted = pd.melt(vas_change_data, id_vars=['Patient_ID', 'Treatment'], \n\u001b[0m\u001b[1;32m      3\u001b[0m                      \u001b[0mvalue_vars\u001b[0m\u001b[0;34m=\u001b[0m\u001b[0;34m[\u001b[0m\u001b[0;34m'Change_Day2'\u001b[0m\u001b[0;34m,\u001b[0m \u001b[0;34m'Change_Day3'\u001b[0m\u001b[0;34m,\u001b[0m \u001b[0;34m'Change_Day4'\u001b[0m\u001b[0;34m,\u001b[0m \u001b[0;34m'Change_Day5'\u001b[0m\u001b[0;34m,\u001b[0m \u001b[0;34m'Change_Day6'\u001b[0m\u001b[0;34m,\u001b[0m \u001b[0;34m'Change_Day7'\u001b[0m\u001b[0;34m]\u001b[0m\u001b[0;34m,\u001b[0m\u001b[0;34m\u001b[0m\u001b[0;34m\u001b[0m\u001b[0m\n\u001b[1;32m      4\u001b[0m                      var_name='Day', value_name='Change_from_Baseline')\n\u001b[1;32m      5\u001b[0m \u001b[0;34m\u001b[0m\u001b[0m\n",
            "\u001b[0;31mNameError\u001b[0m: name 'vas_change_data' is not defined"
          ]
        }
      ]
    },
    {
      "cell_type": "code",
      "source": [
        "# Merge randomization and global assessment data\n",
        "global_merged_data = randomazedata.merge(globaldata, on='Patient_ID', how='inner')\n",
        "\n",
        "# Summary statistics of PGA by treatment groups\n",
        "pga_summary = global_merged_data.groupby('Treatment').agg({\n",
        "    'PGA': ['count', 'mean', 'std', 'median', 'min', 'max']\n",
        "}).reset_index()\n",
        "\n",
        "print(pga_summary)\n",
        "\n",
        "# Visualization\n",
        "plt.figure(figsize=(10, 6))\n",
        "sns.boxplot(data=global_merged_data, x='Treatment', y='PGA')\n",
        "plt.title('Patient Global Assessment (PGA) by Treatment')\n",
        "plt.xlabel('Treatment')\n",
        "plt.ylabel('PGA')\n",
        "plt.show()"
      ],
      "metadata": {
        "colab": {
          "base_uri": "https://localhost:8080/",
          "height": 658
        },
        "id": "qLOug5IwD6Mo",
        "outputId": "420ad44f-d9d4-4be9-ddd8-2b56eaac146c"
      },
      "execution_count": 32,
      "outputs": [
        {
          "output_type": "stream",
          "name": "stdout",
          "text": [
            "  Treatment   PGA                                   \n",
            "            count      mean       std median min max\n",
            "0   PLACEBO   272  0.937500  0.607267    1.0   0   4\n",
            "1       REF   261  3.892720  0.333952    4.0   2   4\n",
            "2      TEST   247  3.890688  0.312664    4.0   3   4\n"
          ]
        },
        {
          "output_type": "display_data",
          "data": {
            "text/plain": [
              "<Figure size 1000x600 with 1 Axes>"
            ],
            "image/png": "[encoded data removed]"
          },
          "metadata": {}
        }
      ]
    },
    {
      "cell_type": "code",
      "source": [
        "# Merge randomization and AE data\n",
        "ae_merged_data = randomazedata.merge(aedata, on='Patient_ID', how='inner')\n",
        "\n",
        "# Summary statistics of adverse events by treatment groups\n",
        "ae_summary = ae_merged_data.groupby"
      ],
      "metadata": {
        "id": "1ekzuHMCECK-"
      },
      "execution_count": 33,
      "outputs": []
    }
  ]
}